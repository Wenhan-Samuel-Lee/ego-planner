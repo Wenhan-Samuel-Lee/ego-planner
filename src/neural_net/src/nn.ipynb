{
 "metadata": {
  "language_info": {
   "codemirror_mode": {
    "name": "ipython",
    "version": 3
   },
   "file_extension": ".py",
   "mimetype": "text/x-python",
   "name": "python",
   "nbconvert_exporter": "python",
   "pygments_lexer": "ipython3",
   "version": 3
  },
  "orig_nbformat": 2
 },
 "nbformat": 4,
 "nbformat_minor": 2,
 "cells": [
  {
   "cell_type": "code",
   "execution_count": null,
   "metadata": {},
   "outputs": [],
   "source": [
    "import tensorflow as tf\n",
    "from tensorflow.keras.models import Sequential\n",
    "from tensorflow.keras.layers import Dense\n",
    "from tensorflow.keras.optimizers import SGD\n",
    "\n"
   ]
  },
  {
   "cell_type": "code",
   "execution_count": null,
   "metadata": {},
   "outputs": [],
   "source": [
    "model = Sequential()\n",
    "model.add(Dense(units=100, activation='relu'))\n",
    "model.add(Dense(units=10))\n",
    "\n",
    "train_X = [[1] * 100] * 100\n",
    "test_X = [[1] * 100] * 100\n",
    "\n",
    "train_Y = [[1] * 10] * 100\n",
    "test_Y = [[1] * 10] * 100\n",
    "\n",
    "# print(test_Y)\n",
    "\n",
    "opt = SGD(lr = .1, momentum = 0.9)\n",
    "\n",
    "model.compile(loss='mean_squared_error',\n",
    "    optimizer=opt,\n",
    "    metrics=['mean_squared_error'])\n",
    "\n",
    "model.fit(train_X, train_Y, epochs=100, batch_size=32)\n",
    "\n",
    "loss_and_metrics = model.evaluate(test_X, test_Y, batch_size=32)"
   ]
  }
 ]
}