{
 "cells": [
  {
   "cell_type": "code",
   "execution_count": 1,
   "metadata": {
    "scrolled": true
   },
   "outputs": [
    {
     "name": "stderr",
     "output_type": "stream",
     "text": [
      "/home/fri/UAV_Team/ego-planner/src/neural_net/venv/lib/python3.6/site-packages/tensorflow/python/framework/dtypes.py:516: FutureWarning: Passing (type, 1) or '1type' as a synonym of type is deprecated; in a future version of numpy, it will be understood as (type, (1,)) / '(1,)type'.\n",
      "  _np_qint8 = np.dtype([(\"qint8\", np.int8, 1)])\n",
      "/home/fri/UAV_Team/ego-planner/src/neural_net/venv/lib/python3.6/site-packages/tensorflow/python/framework/dtypes.py:517: FutureWarning: Passing (type, 1) or '1type' as a synonym of type is deprecated; in a future version of numpy, it will be understood as (type, (1,)) / '(1,)type'.\n",
      "  _np_quint8 = np.dtype([(\"quint8\", np.uint8, 1)])\n",
      "/home/fri/UAV_Team/ego-planner/src/neural_net/venv/lib/python3.6/site-packages/tensorflow/python/framework/dtypes.py:518: FutureWarning: Passing (type, 1) or '1type' as a synonym of type is deprecated; in a future version of numpy, it will be understood as (type, (1,)) / '(1,)type'.\n",
      "  _np_qint16 = np.dtype([(\"qint16\", np.int16, 1)])\n",
      "/home/fri/UAV_Team/ego-planner/src/neural_net/venv/lib/python3.6/site-packages/tensorflow/python/framework/dtypes.py:519: FutureWarning: Passing (type, 1) or '1type' as a synonym of type is deprecated; in a future version of numpy, it will be understood as (type, (1,)) / '(1,)type'.\n",
      "  _np_quint16 = np.dtype([(\"quint16\", np.uint16, 1)])\n",
      "/home/fri/UAV_Team/ego-planner/src/neural_net/venv/lib/python3.6/site-packages/tensorflow/python/framework/dtypes.py:520: FutureWarning: Passing (type, 1) or '1type' as a synonym of type is deprecated; in a future version of numpy, it will be understood as (type, (1,)) / '(1,)type'.\n",
      "  _np_qint32 = np.dtype([(\"qint32\", np.int32, 1)])\n",
      "/home/fri/UAV_Team/ego-planner/src/neural_net/venv/lib/python3.6/site-packages/tensorflow/python/framework/dtypes.py:525: FutureWarning: Passing (type, 1) or '1type' as a synonym of type is deprecated; in a future version of numpy, it will be understood as (type, (1,)) / '(1,)type'.\n",
      "  np_resource = np.dtype([(\"resource\", np.ubyte, 1)])\n",
      "/home/fri/UAV_Team/ego-planner/src/neural_net/venv/lib/python3.6/site-packages/tensorboard/compat/tensorflow_stub/dtypes.py:541: FutureWarning: Passing (type, 1) or '1type' as a synonym of type is deprecated; in a future version of numpy, it will be understood as (type, (1,)) / '(1,)type'.\n",
      "  _np_qint8 = np.dtype([(\"qint8\", np.int8, 1)])\n",
      "/home/fri/UAV_Team/ego-planner/src/neural_net/venv/lib/python3.6/site-packages/tensorboard/compat/tensorflow_stub/dtypes.py:542: FutureWarning: Passing (type, 1) or '1type' as a synonym of type is deprecated; in a future version of numpy, it will be understood as (type, (1,)) / '(1,)type'.\n",
      "  _np_quint8 = np.dtype([(\"quint8\", np.uint8, 1)])\n",
      "/home/fri/UAV_Team/ego-planner/src/neural_net/venv/lib/python3.6/site-packages/tensorboard/compat/tensorflow_stub/dtypes.py:543: FutureWarning: Passing (type, 1) or '1type' as a synonym of type is deprecated; in a future version of numpy, it will be understood as (type, (1,)) / '(1,)type'.\n",
      "  _np_qint16 = np.dtype([(\"qint16\", np.int16, 1)])\n",
      "/home/fri/UAV_Team/ego-planner/src/neural_net/venv/lib/python3.6/site-packages/tensorboard/compat/tensorflow_stub/dtypes.py:544: FutureWarning: Passing (type, 1) or '1type' as a synonym of type is deprecated; in a future version of numpy, it will be understood as (type, (1,)) / '(1,)type'.\n",
      "  _np_quint16 = np.dtype([(\"quint16\", np.uint16, 1)])\n",
      "/home/fri/UAV_Team/ego-planner/src/neural_net/venv/lib/python3.6/site-packages/tensorboard/compat/tensorflow_stub/dtypes.py:545: FutureWarning: Passing (type, 1) or '1type' as a synonym of type is deprecated; in a future version of numpy, it will be understood as (type, (1,)) / '(1,)type'.\n",
      "  _np_qint32 = np.dtype([(\"qint32\", np.int32, 1)])\n",
      "/home/fri/UAV_Team/ego-planner/src/neural_net/venv/lib/python3.6/site-packages/tensorboard/compat/tensorflow_stub/dtypes.py:550: FutureWarning: Passing (type, 1) or '1type' as a synonym of type is deprecated; in a future version of numpy, it will be understood as (type, (1,)) / '(1,)type'.\n",
      "  np_resource = np.dtype([(\"resource\", np.ubyte, 1)])\n"
     ]
    }
   ],
   "source": [
    "%load_ext tensorboard\n",
    "\n",
    "import tensorflow as tf\n",
    "from tensorflow.keras import Input, Model\n",
    "from tensorflow.keras.models import Sequential, load_model\n",
    "from tensorflow.keras.layers import Dense, Conv2D, concatenate, Flatten\n",
    "from tensorflow.keras.optimizers import SGD\n",
    "from tensorflow.keras.regularizers import l2\n",
    "import pandas as pd\n",
    "import numpy as np\n",
    "from PIL import Image\n",
    "from math import floor\n",
    "import matplotlib.pyplot as plt\n",
    "import datetime\n",
    "\n",
    "# Clear logs from previous runs\n",
    "# %rm -rf ../logs/"
   ]
  },
  {
   "cell_type": "code",
   "execution_count": 2,
   "metadata": {},
   "outputs": [],
   "source": [
    "NUM_INPUTS = 13 # used to be 13\n",
    "NUM_OUTPUTS = 9\n",
    "\n",
    "img_shape = (480, 640)\n",
    "\n",
    "# Load the dataset input and output\n",
    "inputNums = np.loadtxt('../dataset/0_input.csv', delimiter=',')#, usecols=tuple(range(NUM_INPUTS))) # (num training points, 13)\n",
    "y = np.loadtxt('../dataset/0_output.csv', delimiter=',', usecols=tuple(range(NUM_OUTPUTS))) # (num training points, 11)\n",
    "X = np.zeros((len(inputNums), *img_shape, 1)) # (num training points, 480, 640)\n",
    "\n",
    "# For each of the training examples there should be exactly 1 image\n",
    "for i in range(0, len(inputNums)):\n",
    "    image = Image.open('../dataset/img_' + str(i) + '.jpg') \n",
    "    imageArr = np.asarray(image).reshape(*img_shape, 1) # Converts the image into a 2D 480*640 array\n",
    "\n",
    "    X[i] = imageArr / 255"
   ]
  },
  {
   "cell_type": "code",
   "execution_count": 3,
   "metadata": {
    "scrolled": true
   },
   "outputs": [
    {
     "name": "stdout",
     "output_type": "stream",
     "text": [
      "(9583, 13)\n"
     ]
    }
   ],
   "source": [
    "max_mag = 2.0\n",
    "\n",
    "print(inputNums.shape);\n",
    "\n",
    "def mag(x, y):\n",
    "    return np.sqrt(x * x + y * y)\n",
    "\n",
    "for inputRow in inputNums:\n",
    "    m = mag(*inputRow[0:2]) # constrain goal positions\n",
    "    if m > max_mag:\n",
    "        inputRow[0] = inputRow[0] * max_mag / m \n",
    "        inputRow[1] = inputRow[1] * max_mag / m "
   ]
  },
  {
   "cell_type": "markdown",
   "metadata": {},
   "source": [
    "Let's view some of our data images"
   ]
  },
  {
   "cell_type": "code",
   "execution_count": 5,
   "metadata": {
    "scrolled": true
   },
   "outputs": [],
   "source": [
    "num_show = 10\n",
    "\n",
    "# fig = plt.figure(figsize=(480/20, 640/20), dpi=100)\n",
    "# for i in range(num_show):\n",
    "#     ax = fig.add_subplot(num_show, 1, i+1)\n",
    "#     plt.imshow(X[i])"
   ]
  },
  {
   "cell_type": "markdown",
   "metadata": {},
   "source": [
    "Next comes actually training on the data. \n",
    "PS. If you want to view the tensorboard data, run `tensorboard --logdir logs/fit` in another window."
   ]
  },
  {
   "cell_type": "code",
   "execution_count": null,
   "metadata": {},
   "outputs": [
    {
     "name": "stdout",
     "output_type": "stream",
     "text": [
      "(?, 5120)\n",
      "(?, 13)\n",
      "(?, 5133)\n",
      "Train on 7666 samples, validate on 1917 samples\n",
      "Epoch 1/100\n",
      "7666/7666 [==============================] - 66s 9ms/sample - loss: 21.2094 - mean_absolute_error: 2.1887 - val_loss: 44.9000 - val_mean_absolute_error: 2.8595\n",
      "Epoch 2/100\n",
      "7666/7666 [==============================] - 65s 8ms/sample - loss: 11.4187 - mean_absolute_error: 1.4576 - val_loss: 42.4568 - val_mean_absolute_error: 2.6882\n",
      "Epoch 3/100\n",
      "7666/7666 [==============================] - 65s 8ms/sample - loss: 5.7221 - mean_absolute_error: 0.9319 - val_loss: 47.0158 - val_mean_absolute_error: 2.8165\n",
      "Epoch 4/100\n",
      "6688/7666 [=========================>....] - ETA: 5s - loss: 3.5465 - mean_absolute_error: 0.7040"
     ]
    }
   ],
   "source": [
    "numerical_inputs = Input(shape=(NUM_INPUTS,))\n",
    "image_inputs = Input(shape=(*img_shape, 1))\n",
    "\n",
    "# Process the image data first\n",
    "x_image = Conv2D(32, (7, 7), strides=(4, 4), padding='same', activation='relu')(image_inputs)\n",
    "x_image = Conv2D(64, (5, 5), strides=(4, 4), padding=\"same\", activation=\"relu\")(x_image)\n",
    "x_image = Conv2D(128, (3, 3), strides=(2, 2), padding=\"same\", activation=\"relu\")(x_image)\n",
    "x_image = Conv2D(128, (3, 3), strides=(2, 2), padding=\"same\", activation=\"relu\")(x_image)\n",
    "x_image = Conv2D(256, (3, 3), strides=(2, 2), padding=\"same\", activation=\"relu\")(x_image)\n",
    "x_image = Model(image_inputs, x_image)\n",
    "x_image = Flatten()(x_image.output)\n",
    "\n",
    "print(x_image.shape)\n",
    "print(numerical_inputs.shape)\n",
    "\n",
    "# Combine the latent space representation with the numerical input\n",
    "combined = concatenate([x_image, numerical_inputs])\n",
    "print(combined.shape)\n",
    "x_combined = Dense(300, kernel_regularizer=l2(0.01), activation='relu')(combined)\n",
    "x_combined = Dense(60, kernel_regularizer=l2(0.01), activation='relu')(x_combined)\n",
    "outputs = Dense(NUM_OUTPUTS, kernel_regularizer=l2(0.01), activation='linear')(x_combined)\n",
    "\n",
    "model = Model([image_inputs, numerical_inputs], outputs)\n",
    "\n",
    "model.compile(loss='mse', optimizer='adam', metrics=['mae'])\n",
    "\n",
    "log_dir = \"../logs/fit/\" + datetime.datetime.now().strftime(\"%Y%m%d-%H%M%S\")\n",
    "tensorboard_callback = tf.keras.callbacks.TensorBoard(log_dir=log_dir, histogram_freq=1)\n",
    "\n",
    "history = model.fit([X, inputNums], y, epochs=100, batch_size=32, validation_split=0.2, callbacks=[tensorboard_callback])\n",
    "\n",
    "# plt.plot(history.history['loss'])\n",
    "# plt.plot(history.history['val_loss'])\n",
    "# plt.title('model loss')\n",
    "# plt.ylabel('loss')\n",
    "# plt.xlabel('epoch')\n",
    "# plt.legend(['train', 'test'], loc='upper left')\n",
    "# plt.show()"
   ]
  },
  {
   "cell_type": "code",
   "execution_count": null,
   "metadata": {},
   "outputs": [],
   "source": [
    "# Save the model\n",
    "# model.save('models/conv_model')\n",
    "model_dir = '../models/conv_model_output_culled'\n",
    "tf.saved_model.save(model, model_dir)\n",
    "\n",
    "# Open Tensorboard (actually, run this on the command line on your Terminal)\n",
    "# %tensorboard --logdir ../logs/fit"
   ]
  },
  {
   "cell_type": "code",
   "execution_count": null,
   "metadata": {},
   "outputs": [],
   "source": [
    "# Load the model\n",
    "loaded_model = model_load('../models')\n",
    "loaded_model.fit([X, inputNums], y, epochs=100, batch_size=32, validation_split=0.2)"
   ]
  }
 ],
 "metadata": {
  "kernelspec": {
   "display_name": "Python 3",
   "language": "python",
   "name": "python3"
  },
  "language_info": {
   "codemirror_mode": {
    "name": "ipython",
    "version": 3
   },
   "file_extension": ".py",
   "mimetype": "text/x-python",
   "name": "python",
   "nbconvert_exporter": "python",
   "pygments_lexer": "ipython3",
   "version": "3.6.9"
  }
 },
 "nbformat": 4,
 "nbformat_minor": 4
}
