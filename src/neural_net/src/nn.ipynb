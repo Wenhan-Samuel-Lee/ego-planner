{
 "cells": [
  {
   "cell_type": "code",
   "execution_count": 1,
   "metadata": {
    "scrolled": true
   },
   "outputs": [
    {
     "name": "stderr",
     "output_type": "stream",
     "text": [
      "/home/fri/UAV/ego-planner/src/neural_net/venv/lib/python3.6/site-packages/tensorflow/python/framework/dtypes.py:516: FutureWarning: Passing (type, 1) or '1type' as a synonym of type is deprecated; in a future version of numpy, it will be understood as (type, (1,)) / '(1,)type'.\n",
      "  _np_qint8 = np.dtype([(\"qint8\", np.int8, 1)])\n",
      "/home/fri/UAV/ego-planner/src/neural_net/venv/lib/python3.6/site-packages/tensorflow/python/framework/dtypes.py:517: FutureWarning: Passing (type, 1) or '1type' as a synonym of type is deprecated; in a future version of numpy, it will be understood as (type, (1,)) / '(1,)type'.\n",
      "  _np_quint8 = np.dtype([(\"quint8\", np.uint8, 1)])\n",
      "/home/fri/UAV/ego-planner/src/neural_net/venv/lib/python3.6/site-packages/tensorflow/python/framework/dtypes.py:518: FutureWarning: Passing (type, 1) or '1type' as a synonym of type is deprecated; in a future version of numpy, it will be understood as (type, (1,)) / '(1,)type'.\n",
      "  _np_qint16 = np.dtype([(\"qint16\", np.int16, 1)])\n",
      "/home/fri/UAV/ego-planner/src/neural_net/venv/lib/python3.6/site-packages/tensorflow/python/framework/dtypes.py:519: FutureWarning: Passing (type, 1) or '1type' as a synonym of type is deprecated; in a future version of numpy, it will be understood as (type, (1,)) / '(1,)type'.\n",
      "  _np_quint16 = np.dtype([(\"quint16\", np.uint16, 1)])\n",
      "/home/fri/UAV/ego-planner/src/neural_net/venv/lib/python3.6/site-packages/tensorflow/python/framework/dtypes.py:520: FutureWarning: Passing (type, 1) or '1type' as a synonym of type is deprecated; in a future version of numpy, it will be understood as (type, (1,)) / '(1,)type'.\n",
      "  _np_qint32 = np.dtype([(\"qint32\", np.int32, 1)])\n",
      "/home/fri/UAV/ego-planner/src/neural_net/venv/lib/python3.6/site-packages/tensorflow/python/framework/dtypes.py:525: FutureWarning: Passing (type, 1) or '1type' as a synonym of type is deprecated; in a future version of numpy, it will be understood as (type, (1,)) / '(1,)type'.\n",
      "  np_resource = np.dtype([(\"resource\", np.ubyte, 1)])\n",
      "/home/fri/UAV/ego-planner/src/neural_net/venv/lib/python3.6/site-packages/tensorboard/compat/tensorflow_stub/dtypes.py:541: FutureWarning: Passing (type, 1) or '1type' as a synonym of type is deprecated; in a future version of numpy, it will be understood as (type, (1,)) / '(1,)type'.\n",
      "  _np_qint8 = np.dtype([(\"qint8\", np.int8, 1)])\n",
      "/home/fri/UAV/ego-planner/src/neural_net/venv/lib/python3.6/site-packages/tensorboard/compat/tensorflow_stub/dtypes.py:542: FutureWarning: Passing (type, 1) or '1type' as a synonym of type is deprecated; in a future version of numpy, it will be understood as (type, (1,)) / '(1,)type'.\n",
      "  _np_quint8 = np.dtype([(\"quint8\", np.uint8, 1)])\n",
      "/home/fri/UAV/ego-planner/src/neural_net/venv/lib/python3.6/site-packages/tensorboard/compat/tensorflow_stub/dtypes.py:543: FutureWarning: Passing (type, 1) or '1type' as a synonym of type is deprecated; in a future version of numpy, it will be understood as (type, (1,)) / '(1,)type'.\n",
      "  _np_qint16 = np.dtype([(\"qint16\", np.int16, 1)])\n",
      "/home/fri/UAV/ego-planner/src/neural_net/venv/lib/python3.6/site-packages/tensorboard/compat/tensorflow_stub/dtypes.py:544: FutureWarning: Passing (type, 1) or '1type' as a synonym of type is deprecated; in a future version of numpy, it will be understood as (type, (1,)) / '(1,)type'.\n",
      "  _np_quint16 = np.dtype([(\"quint16\", np.uint16, 1)])\n",
      "/home/fri/UAV/ego-planner/src/neural_net/venv/lib/python3.6/site-packages/tensorboard/compat/tensorflow_stub/dtypes.py:545: FutureWarning: Passing (type, 1) or '1type' as a synonym of type is deprecated; in a future version of numpy, it will be understood as (type, (1,)) / '(1,)type'.\n",
      "  _np_qint32 = np.dtype([(\"qint32\", np.int32, 1)])\n",
      "/home/fri/UAV/ego-planner/src/neural_net/venv/lib/python3.6/site-packages/tensorboard/compat/tensorflow_stub/dtypes.py:550: FutureWarning: Passing (type, 1) or '1type' as a synonym of type is deprecated; in a future version of numpy, it will be understood as (type, (1,)) / '(1,)type'.\n",
      "  np_resource = np.dtype([(\"resource\", np.ubyte, 1)])\n"
     ]
    }
   ],
   "source": [
    "%load_ext tensorboard\n",
    "\n",
    "import tensorflow as tf\n",
    "from tensorflow.keras import Input, Model\n",
    "from tensorflow.keras.models import Sequential, load_model\n",
    "from tensorflow.keras.layers import Dense, Conv2D, concatenate, Flatten\n",
    "from tensorflow.keras.optimizers import SGD\n",
    "from tensorflow.keras.regularizers import l2\n",
    "import pandas as pd\n",
    "import numpy as np\n",
    "from PIL import Image\n",
    "from math import floor\n",
    "import matplotlib.pyplot as plt\n",
    "import datetime\n",
    "from UAVSequence import UAVSequence\n",
    "from ValidationCallback import ValidationCallback\n",
    "# Clear logs from previous runs\n",
    "# %rm -rf ../logs/"
   ]
  },
  {
   "cell_type": "code",
   "execution_count": 2,
   "metadata": {},
   "outputs": [],
   "source": [
    "NUM_INPUTS = 13 # used to be 13\n",
    "NUM_OUTPUTS = 9\n",
    "\n",
    "img_shape = (480, 640)\n",
    "\n",
    "# Load the dataset input and output\n",
    "x = np.loadtxt('../dataset/0_input.csv', delimiter=',')#, usecols=tuple(range(NUM_INPUTS))) # (num training points, 13)\n",
    "y = np.loadtxt('../dataset/0_output.csv', delimiter=',', usecols=tuple(range(NUM_OUTPUTS))) # (num training points, 11)\n",
    "\n",
    "# Shuffle x and y, but store the indices so we can still match them with the images\n",
    "hash_table = np.random.permutation(len(x))\n",
    "\n",
    "x = x[hash_table]\n",
    "y = y[hash_table]\n",
    "\n",
    "# X = np.zeros((len(inputNums), *img_shape, 1)) # (num training points, 480, 640)\n",
    "\n",
    "# For each of the training examples there should be exactly 1 image\n",
    "# for i in range(0, len(inputNums)):\n",
    "#     image = Image.open('../dataset/img_' + str(i) + '.jpg') \n",
    "#     imageArr = np.asarray(image).reshape(*img_shape, 1) # Converts the image into a 2D 480*640 array\n",
    "\n",
    "#     X[i] = imageArr / 255\n",
    "\n",
    "\n",
    "# img_data = ImageDataGenerator(rescale=1/255)\n",
    "# img_data.flow_from_directory('../dataset', target_size=img_shape, color_mode='grayscale')\n"
   ]
  },
  {
   "cell_type": "code",
   "execution_count": 3,
   "metadata": {
    "scrolled": true
   },
   "outputs": [],
   "source": [
    "max_mag = 2.0\n",
    "\n",
    "# print(inputNums.shape);\n",
    "\n",
    "# def mag(x, y):\n",
    "#     return np.sqrt(x * x + y * y)\n",
    "\n",
    "# for inputRow in inputNums:\n",
    "#     m = mag(*inputRow[0:2]) # constrain goal positions\n",
    "#     if m > max_mag:\n",
    "#         inputRow[0] = inputRow[0] * max_mag / m \n",
    "#         inputRow[1] = inputRow[1] * max_mag / m "
   ]
  },
  {
   "cell_type": "markdown",
   "metadata": {},
   "source": [
    "Let's view some of our data images"
   ]
  },
  {
   "cell_type": "code",
   "execution_count": 4,
   "metadata": {
    "scrolled": true
   },
   "outputs": [],
   "source": [
    "num_show = 10\n",
    "\n",
    "# fig = plt.figure(figsize=(480/20, 640/20), dpi=100)\n",
    "# for i in range(num_show):\n",
    "#     ax = fig.add_subplot(num_show, 1, i+1)\n",
    "#     plt.imshow(X[i])"
   ]
  },
  {
   "cell_type": "markdown",
   "metadata": {},
   "source": [
    "Next comes actually training on the data. \n",
    "PS. If you want to view the tensorboard data, run `tensorboard --logdir logs/fit` in another window."
   ]
  },
  {
   "cell_type": "code",
   "execution_count": null,
   "metadata": {},
   "outputs": [
    {
     "name": "stdout",
     "output_type": "stream",
     "text": [
      "batch is 32\n",
      "batch is 32\n",
      "WARNING:tensorflow:From /home/fri/UAV/ego-planner/src/neural_net/venv/lib/python3.6/site-packages/tensorflow/python/ops/init_ops.py:1251: calling VarianceScaling.__init__ (from tensorflow.python.ops.init_ops) with dtype is deprecated and will be removed in a future version.\n",
      "Instructions for updating:\n",
      "Call initializer instance with the dtype argument instead of passing it to the constructor\n",
      "(?, 5120)\n",
      "(?, 13)\n",
      "(?, 5133)\n",
      "Epoch 1/100\n",
      "59/59 [==============================] - 6s 103ms/step - loss: 11.8839 - mean_absolute_error: 1.4928\n",
      "239/239 [==============================] - 52s 216ms/step - loss: 17.4798 - mean_absolute_error: 1.8916\n",
      "Epoch 2/100\n",
      "59/59 [==============================] - 6s 103ms/step - loss: 6.9519 - mean_absolute_error: 1.0916\n",
      "239/239 [==============================] - 51s 214ms/step - loss: 8.9963 - mean_absolute_error: 1.2631\n",
      "Epoch 3/100\n",
      "59/59 [==============================] - 6s 104ms/step - loss: 5.0047 - mean_absolute_error: 0.9058\n",
      "239/239 [==============================] - 51s 213ms/step - loss: 4.9718 - mean_absolute_error: 0.8925\n",
      "Epoch 4/100\n",
      "59/59 [==============================] - 6s 104ms/step - loss: 3.6705 - mean_absolute_error: 0.7529\n",
      "239/239 [==============================] - 51s 213ms/step - loss: 3.3291 - mean_absolute_error: 0.7131\n",
      "Epoch 5/100\n",
      "59/59 [==============================] - 6s 103ms/step - loss: 3.2478 - mean_absolute_error: 0.7076\n",
      "239/239 [==============================] - 51s 214ms/step - loss: 2.6456 - mean_absolute_error: 0.6323\n",
      "Epoch 6/100\n",
      "59/59 [==============================] - 6s 103ms/step - loss: 2.7706 - mean_absolute_error: 0.6560\n",
      "239/239 [==============================] - 51s 214ms/step - loss: 2.2435 - mean_absolute_error: 0.5849\n",
      "Epoch 7/100\n",
      "59/59 [==============================] - 6s 104ms/step - loss: 2.6652 - mean_absolute_error: 0.6590\n",
      "239/239 [==============================] - 51s 215ms/step - loss: 2.0388 - mean_absolute_error: 0.5625\n",
      "Epoch 8/100\n",
      "59/59 [==============================] - 6s 103ms/step - loss: 2.5559 - mean_absolute_error: 0.6309\n",
      "239/239 [==============================] - 51s 215ms/step - loss: 2.0240 - mean_absolute_error: 0.5684\n",
      "Epoch 9/100\n",
      "59/59 [==============================] - 6s 103ms/step - loss: 2.6143 - mean_absolute_error: 0.6352\n",
      "239/239 [==============================] - 51s 212ms/step - loss: 1.8211 - mean_absolute_error: 0.5392\n",
      "Epoch 10/100\n",
      "59/59 [==============================] - 6s 103ms/step - loss: 2.1639 - mean_absolute_error: 0.5694\n",
      "239/239 [==============================] - 51s 211ms/step - loss: 1.6477 - mean_absolute_error: 0.5113\n",
      "Epoch 11/100\n",
      "59/59 [==============================] - 6s 103ms/step - loss: 2.2692 - mean_absolute_error: 0.5920\n",
      "239/239 [==============================] - 51s 212ms/step - loss: 1.4840 - mean_absolute_error: 0.4892\n",
      "Epoch 12/100\n",
      "59/59 [==============================] - 6s 103ms/step - loss: 2.3983 - mean_absolute_error: 0.6273\n",
      "239/239 [==============================] - 50s 211ms/step - loss: 1.6038 - mean_absolute_error: 0.5176\n",
      "Epoch 13/100\n",
      "59/59 [==============================] - 6s 103ms/step - loss: 2.3251 - mean_absolute_error: 0.6239\n",
      "239/239 [==============================] - 51s 212ms/step - loss: 1.4533 - mean_absolute_error: 0.4882\n",
      "Epoch 14/100\n",
      "59/59 [==============================] - 6s 104ms/step - loss: 2.0704 - mean_absolute_error: 0.5775\n",
      "239/239 [==============================] - 51s 212ms/step - loss: 1.3537 - mean_absolute_error: 0.4705\n",
      "Epoch 15/100\n",
      "59/59 [==============================] - 6s 103ms/step - loss: 1.9661 - mean_absolute_error: 0.5463\n",
      "239/239 [==============================] - 51s 213ms/step - loss: 1.2913 - mean_absolute_error: 0.4673\n",
      "Epoch 16/100\n",
      "59/59 [==============================] - 6s 104ms/step - loss: 2.0911 - mean_absolute_error: 0.6077\n",
      "239/239 [==============================] - 51s 215ms/step - loss: 1.2309 - mean_absolute_error: 0.4560\n",
      "Epoch 17/100\n",
      "59/59 [==============================] - 6s 104ms/step - loss: 2.0630 - mean_absolute_error: 0.5752\n",
      "239/239 [==============================] - 50s 207ms/step - loss: 1.2993 - mean_absolute_error: 0.4755\n",
      "Epoch 18/100\n",
      " 82/239 [=========>....................] - ETA: 28s - loss: 1.1881 - mean_absolute_error: 0.4455"
     ]
    }
   ],
   "source": [
    "numerical_inputs = Input(shape=(NUM_INPUTS,))\n",
    "image_inputs = Input(shape=(*img_shape, 1))\n",
    "\n",
    "VALIDATION_SPLIT = 0.2\n",
    "xy = UAVSequence(x, y, 32, img_shape, hash_table, VALIDATION_SPLIT, False)\n",
    "xy_validation = UAVSequence(x, y, 32, img_shape, hash_table, VALIDATION_SPLIT, True)\n",
    "\n",
    "# Process the image data first\n",
    "x_image = Conv2D(32, (7, 7), strides=(4, 4), padding='same', activation='relu')(image_inputs)\n",
    "x_image = Conv2D(64, (5, 5), strides=(4, 4), padding=\"same\", activation=\"relu\")(x_image)\n",
    "x_image = Conv2D(128, (3, 3), strides=(2, 2), padding=\"same\", activation=\"relu\")(x_image)\n",
    "x_image = Conv2D(128, (3, 3), strides=(2, 2), padding=\"same\", activation=\"relu\")(x_image)\n",
    "x_image = Conv2D(256, (3, 3), strides=(2, 2), padding=\"same\", activation=\"relu\")(x_image)\n",
    "x_image = Model(image_inputs, x_image)\n",
    "x_image = Flatten()(x_image.output)\n",
    "\n",
    "print(x_image.shape)\n",
    "print(numerical_inputs.shape)\n",
    "\n",
    "# Combine the latent space representation with the numerical input\n",
    "combined = concatenate([x_image, numerical_inputs])\n",
    "print(combined.shape)\n",
    "x_combined = Dense(300, kernel_regularizer=l2(0.01), activation='relu')(combined)\n",
    "x_combined = Dense(60, kernel_regularizer=l2(0.01), activation='relu')(x_combined)\n",
    "outputs = Dense(NUM_OUTPUTS, kernel_regularizer=l2(0.01), activation='linear')(x_combined)\n",
    "\n",
    "model = Model([image_inputs, numerical_inputs], outputs)\n",
    "\n",
    "model.compile(loss='mse', optimizer='adam', metrics=['mae'])\n",
    "\n",
    "log_dir = \"../logs/fit/\" + datetime.datetime.now().strftime(\"%Y%m%d-%H%M%S\")\n",
    "tensorboard_callback = tf.keras.callbacks.TensorBoard(log_dir=log_dir, histogram_freq=1)\n",
    "\n",
    "# history = model.fit([X, inputNums], y, epochs=100, batch_size=32, validation_split=0.2, callbacks=[tensorboard_callback])\n",
    "history = model.fit(xy, epochs=100, callbacks=[ValidationCallback(xy_validation), tensorboard_callback] )\n",
    "\n",
    "# plt.plot(history.history['loss'])\n",
    "# plt.plot(history.history['val_loss'])\n",
    "# plt.title('model loss')\n",
    "# plt.ylabel('loss')\n",
    "# plt.xlabel('epoch')\n",
    "# plt.legend(['train', 'test'], loc='upper left')\n",
    "# plt.show()"
   ]
  },
  {
   "cell_type": "code",
   "execution_count": null,
   "metadata": {},
   "outputs": [],
   "source": [
    "# Save the model\n",
    "# model.save('models/conv_model')\n",
    "model_dir = '../models/conv_model_output_culled'\n",
    "tf.saved_model.save(model, model_dir)\n",
    "\n",
    "# Open Tensorboard (actually, run this on the command line on your Terminal)\n",
    "# %tensorboard --logdir ../logs/fit"
   ]
  },
  {
   "cell_type": "code",
   "execution_count": null,
   "metadata": {},
   "outputs": [],
   "source": [
    "# Load the model\n",
    "loaded_model = model_load('../models')\n",
    "loaded_model.fit(x=[X, inputNums], y=y, epochs=100, batch_size=32, validation_split=0.2)"
   ]
  }
 ],
 "metadata": {
  "kernelspec": {
   "display_name": "Python 3",
   "language": "python",
   "name": "python3"
  },
  "language_info": {
   "codemirror_mode": {
    "name": "ipython",
    "version": 3
   },
   "file_extension": ".py",
   "mimetype": "text/x-python",
   "name": "python",
   "nbconvert_exporter": "python",
   "pygments_lexer": "ipython3",
   "version": "3.6.9"
  }
 },
 "nbformat": 4,
 "nbformat_minor": 4
}
