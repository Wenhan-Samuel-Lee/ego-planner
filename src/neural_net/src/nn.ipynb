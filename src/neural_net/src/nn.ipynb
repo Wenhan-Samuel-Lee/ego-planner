{
 "cells": [
  {
   "cell_type": "code",
   "execution_count": 1,
   "metadata": {},
   "outputs": [
    {
     "name": "stderr",
     "output_type": "stream",
     "text": [
      "Failed to load Python extension for LZ4 support. LZ4 compression will not be available.\n"
     ]
    }
   ],
   "source": [
    "import tensorflow as tf\n",
    "from tensorflow.keras.models import Sequential\n",
    "from tensorflow.keras.layers import Dense\n",
    "from tensorflow.keras.optimizers import SGD\n",
    "import rosbag\n",
    "import pandas as pd"
   ]
  },
  {
   "cell_type": "code",
   "execution_count": 2,
   "metadata": {},
   "outputs": [],
   "source": [
    "bag = rosbag.Bag('./2020-09-29-16-59-02.bag')\n",
    "topic = '/planning/pos_cmd'\n",
    "column_names = ['pos_x', 'pos_y', 'pos_z', 'vel_x', 'vel_y', 'vel_z', 'acc_x', 'acc_y', 'acc_z', 'yaw', 'yaw_dot']\n",
    "df = pd.DataFrame(columns=column_names)"
   ]
  },
  {
   "cell_type": "code",
   "execution_count": 3,
   "metadata": {},
   "outputs": [
    {
     "name": "stdout",
     "output_type": "stream",
     "text": [
      "          pos_x     pos_y     pos_z     vel_x     vel_y     vel_z     acc_x  \\\n",
      "0    -13.086069  0.554909  1.451747  1.974760  0.870654  0.406779  0.047508   \n",
      "1    -13.101905  0.547797  1.448605  1.974918  0.876810  0.402332  0.016274   \n",
      "2    -13.082168  0.556591  1.452602  1.974917  0.883202  0.397565 -0.016428   \n",
      "3    -13.062407  0.565460  1.456557  1.974589  0.889276  0.392785 -0.049175   \n",
      "4    -13.042663  0.574382  1.460461  1.973934  0.895020  0.388002 -0.081900   \n",
      "...         ...       ...       ...       ...       ...       ...       ...   \n",
      "5195 -14.902148 -0.069173  0.999636  0.000000  0.000000  0.000000  0.000000   \n",
      "5196 -14.902148 -0.069173  0.999636  0.000000  0.000000  0.000000  0.000000   \n",
      "5197 -14.902148 -0.069173  0.999636  0.000000  0.000000  0.000000  0.000000   \n",
      "5198 -14.902148 -0.069173  0.999636  0.000000  0.000000  0.000000  0.000000   \n",
      "5199 -14.902148 -0.069173  0.999636  0.000000  0.000000  0.000000  0.000000   \n",
      "\n",
      "         acc_y     acc_z       yaw   yaw_dot  \n",
      "0     0.687159 -0.476178  0.546454  0.641180  \n",
      "1     0.655919 -0.476710  0.530739 -1.250206  \n",
      "2     0.623326 -0.477326  0.516868 -2.013050  \n",
      "3     0.590689 -0.477944  0.511014 -1.591590  \n",
      "4     0.558073 -0.478560  0.509179 -0.979292  \n",
      "...        ...       ...       ...       ...  \n",
      "5195  0.000000  0.000000  2.577875  0.000000  \n",
      "5196  0.000000  0.000000  2.577875  0.000000  \n",
      "5197  0.000000  0.000000  2.577875  0.000000  \n",
      "5198  0.000000  0.000000  2.577875  0.000000  \n",
      "5199  0.000000  0.000000  2.577875  0.000000  \n",
      "\n",
      "[5200 rows x 11 columns]\n"
     ]
    }
   ],
   "source": [
    "for topic, msg, t in bag.read_messages(topics=topic):\n",
    "    df = df.append(\n",
    "        {\n",
    "            'pos_x': msg.position.x,\n",
    "            'pos_y': msg.position.y,\n",
    "            'pos_z': msg.position.z,\n",
    "            'vel_x': msg.velocity.x,\n",
    "            'vel_y': msg.velocity.y,\n",
    "            'vel_z': msg.velocity.z,\n",
    "            'acc_x': msg.acceleration.x,\n",
    "            'acc_y': msg.acceleration.y,\n",
    "            'acc_z': msg.acceleration.z,\n",
    "            'yaw': msg.yaw,\n",
    "            'yaw_dot': msg.yaw_dot\n",
    "        },\n",
    "        ignore_index=True\n",
    "    )\n",
    "\n",
    "print(df)\n",
    "# df.to_csv('pos_cmd.csv')"
   ]
  },
  {
   "cell_type": "code",
   "execution_count": null,
   "metadata": {},
   "outputs": [],
   "source": [
    "model = Sequential()\n",
    "model.add(Dense(units=100, activation='relu'))\n",
    "model.add(Dense(units=10))\n",
    "\n",
    "train_X = [[1] * 100] * 100\n",
    "test_X = [[1] * 100] * 100\n",
    "\n",
    "train_Y = [[1] * 10] * 100\n",
    "test_Y = [[1] * 10] * 100\n",
    "\n",
    "# print(test_Y)\n",
    "\n",
    "opt = SGD(lr = .1, momentum = 0.9)\n",
    "\n",
    "model.compile(loss='mean_squared_error',\n",
    "    optimizer=opt,\n",
    "    metrics=['mean_squared_error'])\n",
    "\n",
    "model.fit(train_X, train_Y, epochs=100, batch_size=32)\n",
    "\n",
    "loss_and_metrics = model.evaluate(test_X, test_Y, batch_size=32)"
   ]
  }
 ],
 "metadata": {
  "kernelspec": {
   "display_name": "Python 3",
   "language": "python",
   "name": "python3"
  },
  "language_info": {
   "codemirror_mode": {
    "name": "ipython",
    "version": 3
   },
   "file_extension": ".py",
   "mimetype": "text/x-python",
   "name": "python",
   "nbconvert_exporter": "python",
   "pygments_lexer": "ipython3",
   "version": "3.8.3"
  }
 },
 "nbformat": 4,
 "nbformat_minor": 2
}
