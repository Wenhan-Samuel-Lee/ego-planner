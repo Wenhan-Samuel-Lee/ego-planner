{
 "cells": [
  {
   "cell_type": "code",
   "execution_count": 1,
   "metadata": {
    "scrolled": true
   },
   "outputs": [
    {
     "name": "stderr",
     "output_type": "stream",
     "text": [
      "/home/fri/UAV/ego-planner/src/neural_net/venv/lib/python3.6/site-packages/tensorflow/python/framework/dtypes.py:516: FutureWarning: Passing (type, 1) or '1type' as a synonym of type is deprecated; in a future version of numpy, it will be understood as (type, (1,)) / '(1,)type'.\n",
      "  _np_qint8 = np.dtype([(\"qint8\", np.int8, 1)])\n",
      "/home/fri/UAV/ego-planner/src/neural_net/venv/lib/python3.6/site-packages/tensorflow/python/framework/dtypes.py:517: FutureWarning: Passing (type, 1) or '1type' as a synonym of type is deprecated; in a future version of numpy, it will be understood as (type, (1,)) / '(1,)type'.\n",
      "  _np_quint8 = np.dtype([(\"quint8\", np.uint8, 1)])\n",
      "/home/fri/UAV/ego-planner/src/neural_net/venv/lib/python3.6/site-packages/tensorflow/python/framework/dtypes.py:518: FutureWarning: Passing (type, 1) or '1type' as a synonym of type is deprecated; in a future version of numpy, it will be understood as (type, (1,)) / '(1,)type'.\n",
      "  _np_qint16 = np.dtype([(\"qint16\", np.int16, 1)])\n",
      "/home/fri/UAV/ego-planner/src/neural_net/venv/lib/python3.6/site-packages/tensorflow/python/framework/dtypes.py:519: FutureWarning: Passing (type, 1) or '1type' as a synonym of type is deprecated; in a future version of numpy, it will be understood as (type, (1,)) / '(1,)type'.\n",
      "  _np_quint16 = np.dtype([(\"quint16\", np.uint16, 1)])\n",
      "/home/fri/UAV/ego-planner/src/neural_net/venv/lib/python3.6/site-packages/tensorflow/python/framework/dtypes.py:520: FutureWarning: Passing (type, 1) or '1type' as a synonym of type is deprecated; in a future version of numpy, it will be understood as (type, (1,)) / '(1,)type'.\n",
      "  _np_qint32 = np.dtype([(\"qint32\", np.int32, 1)])\n",
      "/home/fri/UAV/ego-planner/src/neural_net/venv/lib/python3.6/site-packages/tensorflow/python/framework/dtypes.py:525: FutureWarning: Passing (type, 1) or '1type' as a synonym of type is deprecated; in a future version of numpy, it will be understood as (type, (1,)) / '(1,)type'.\n",
      "  np_resource = np.dtype([(\"resource\", np.ubyte, 1)])\n",
      "/home/fri/UAV/ego-planner/src/neural_net/venv/lib/python3.6/site-packages/tensorboard/compat/tensorflow_stub/dtypes.py:541: FutureWarning: Passing (type, 1) or '1type' as a synonym of type is deprecated; in a future version of numpy, it will be understood as (type, (1,)) / '(1,)type'.\n",
      "  _np_qint8 = np.dtype([(\"qint8\", np.int8, 1)])\n",
      "/home/fri/UAV/ego-planner/src/neural_net/venv/lib/python3.6/site-packages/tensorboard/compat/tensorflow_stub/dtypes.py:542: FutureWarning: Passing (type, 1) or '1type' as a synonym of type is deprecated; in a future version of numpy, it will be understood as (type, (1,)) / '(1,)type'.\n",
      "  _np_quint8 = np.dtype([(\"quint8\", np.uint8, 1)])\n",
      "/home/fri/UAV/ego-planner/src/neural_net/venv/lib/python3.6/site-packages/tensorboard/compat/tensorflow_stub/dtypes.py:543: FutureWarning: Passing (type, 1) or '1type' as a synonym of type is deprecated; in a future version of numpy, it will be understood as (type, (1,)) / '(1,)type'.\n",
      "  _np_qint16 = np.dtype([(\"qint16\", np.int16, 1)])\n",
      "/home/fri/UAV/ego-planner/src/neural_net/venv/lib/python3.6/site-packages/tensorboard/compat/tensorflow_stub/dtypes.py:544: FutureWarning: Passing (type, 1) or '1type' as a synonym of type is deprecated; in a future version of numpy, it will be understood as (type, (1,)) / '(1,)type'.\n",
      "  _np_quint16 = np.dtype([(\"quint16\", np.uint16, 1)])\n",
      "/home/fri/UAV/ego-planner/src/neural_net/venv/lib/python3.6/site-packages/tensorboard/compat/tensorflow_stub/dtypes.py:545: FutureWarning: Passing (type, 1) or '1type' as a synonym of type is deprecated; in a future version of numpy, it will be understood as (type, (1,)) / '(1,)type'.\n",
      "  _np_qint32 = np.dtype([(\"qint32\", np.int32, 1)])\n",
      "/home/fri/UAV/ego-planner/src/neural_net/venv/lib/python3.6/site-packages/tensorboard/compat/tensorflow_stub/dtypes.py:550: FutureWarning: Passing (type, 1) or '1type' as a synonym of type is deprecated; in a future version of numpy, it will be understood as (type, (1,)) / '(1,)type'.\n",
      "  np_resource = np.dtype([(\"resource\", np.ubyte, 1)])\n"
     ]
    }
   ],
   "source": [
    "%load_ext tensorboard\n",
    "\n",
    "import tensorflow as tf\n",
    "from tensorflow.keras import Input, Model\n",
    "from tensorflow.keras.models import Sequential, load_model\n",
    "from tensorflow.keras.layers import Dense, Conv2D, Conv2DTranspose, MaxPooling2D, UpSampling2D, concatenate, Flatten, Reshape\n",
    "from tensorflow.keras.optimizers import SGD\n",
    "from tensorflow.keras.regularizers import l2\n",
    "import pandas as pd\n",
    "import numpy as np\n",
    "from PIL import Image\n",
    "from math import floor\n",
    "import matplotlib.pyplot as plt\n",
    "import datetime\n",
    "from UAVSequence import UAVSequence, ImageSequence\n",
    "from ValidationCallback import ValidationCallback\n",
    "from VAEModel import Sampling, VAE\n",
    "# Clear logs from previous runs\n",
    "# %rm -rf ../logs/"
   ]
  },
  {
   "cell_type": "code",
   "execution_count": 2,
   "metadata": {},
   "outputs": [
    {
     "name": "stdout",
     "output_type": "stream",
     "text": [
      "[name: \"/device:CPU:0\"\n",
      "device_type: \"CPU\"\n",
      "memory_limit: 268435456\n",
      "locality {\n",
      "}\n",
      "incarnation: 10417984897419101464\n",
      ", name: \"/device:XLA_CPU:0\"\n",
      "device_type: \"XLA_CPU\"\n",
      "memory_limit: 17179869184\n",
      "locality {\n",
      "}\n",
      "incarnation: 16601123828022033433\n",
      "physical_device_desc: \"device: XLA_CPU device\"\n",
      "]\n"
     ]
    }
   ],
   "source": [
    "from tensorflow.python.client import device_lib\n",
    "print(device_lib.list_local_devices())"
   ]
  },
  {
   "cell_type": "code",
   "execution_count": 3,
   "metadata": {},
   "outputs": [],
   "source": [
    "NUM_INPUTS = 13\n",
    "NUM_OUTPUTS = 9\n",
    "\n",
    "img_shape = (480, 640)\n",
    "\n",
    "# Load the dataset input and output\n",
    "x = np.loadtxt('../dataset/0_input.csv', delimiter=',')#, usecols=tuple(range(NUM_INPUTS))) # (num training points, 13)\n",
    "y = np.loadtxt('../dataset/0_output.csv', delimiter=',', usecols=tuple(range(NUM_OUTPUTS))) # (num training points, 11)\n",
    "\n",
    "# Shuffle x and y, but store the indices so we can still match them with the images\n",
    "hash_table = np.random.permutation(len(x))\n",
    "\n",
    "x = x[hash_table]\n",
    "y = y[hash_table]\n",
    "\n",
    "# X = np.zeros((len(inputNums), *img_shape, 1)) # (num training points, 480, 640)\n",
    "\n",
    "# For each of the training examples there should be exactly 1 image\n",
    "# for i in range(0, len(inputNums)):\n",
    "#     image = Image.open('../dataset/img_' + str(i) + '.jpg') \n",
    "#     imageArr = np.asarray(image).reshape(*img_shape, 1) # Converts the image into a 2D 480*640 array\n",
    "\n",
    "#     X[i] = imageArr / 255\n",
    "\n",
    "\n",
    "# img_data = ImageDataGenerator(rescale=1/255)\n",
    "# img_data.flow_from_directory('../dataset', target_size=img_shape, color_mode='grayscale')\n"
   ]
  },
  {
   "cell_type": "code",
   "execution_count": 4,
   "metadata": {
    "scrolled": true
   },
   "outputs": [],
   "source": [
    "max_mag = 2.0\n",
    "\n",
    "# print(inputNums.shape);\n",
    "\n",
    "# def mag(x, y):\n",
    "#     return np.sqrt(x * x + y * y)\n",
    "\n",
    "# for inputRow in inputNums:\n",
    "#     m = mag(*inputRow[0:2]) # constrain goal positions\n",
    "#     if m > max_mag:\n",
    "#         inputRow[0] = inputRow[0] * max_mag / m \n",
    "#         inputRow[1] = inputRow[1] * max_mag / m "
   ]
  },
  {
   "cell_type": "markdown",
   "metadata": {},
   "source": [
    "Let's view some of our data images"
   ]
  },
  {
   "cell_type": "code",
   "execution_count": 5,
   "metadata": {
    "scrolled": true
   },
   "outputs": [],
   "source": [
    "num_show = 10\n",
    "\n",
    "# fig = plt.figure(figsize=(480/20, 640/20), dpi=100)\n",
    "# for i in range(num_show):\n",
    "#     ax = fig.add_subplot(num_show, 1, i+1)\n",
    "#     plt.imshow(X[i])"
   ]
  },
  {
   "cell_type": "markdown",
   "metadata": {},
   "source": [
    "Next comes actually training on the data. \n",
    "PS. If you want to view the tensorboard data, run `tensorboard --logdir logs/fit` in another window."
   ]
  },
  {
   "cell_type": "code",
   "execution_count": 6,
   "metadata": {},
   "outputs": [
    {
     "name": "stdout",
     "output_type": "stream",
     "text": [
      "WARNING:tensorflow:From /home/fri/UAV/ego-planner/src/neural_net/venv/lib/python3.6/site-packages/tensorflow/python/ops/init_ops.py:1251: calling VarianceScaling.__init__ (from tensorflow.python.ops.init_ops) with dtype is deprecated and will be removed in a future version.\n",
      "Instructions for updating:\n",
      "Call initializer instance with the dtype argument instead of passing it to the constructor\n",
      "WARNING:tensorflow:Entity <bound method Sampling.call of <VAEModel.Sampling object at 0x7f32766f1be0>> could not be transformed and will be executed as-is. Please report this to the AutgoGraph team. When filing the bug, set the verbosity to 10 (on Linux, `export AUTOGRAPH_VERBOSITY=10`) and attach the full output. Cause: converting <bound method Sampling.call of <VAEModel.Sampling object at 0x7f32766f1be0>>: AttributeError: module 'gast' has no attribute 'Num'\n",
      "WARNING: Entity <bound method Sampling.call of <VAEModel.Sampling object at 0x7f32766f1be0>> could not be transformed and will be executed as-is. Please report this to the AutgoGraph team. When filing the bug, set the verbosity to 10 (on Linux, `export AUTOGRAPH_VERBOSITY=10`) and attach the full output. Cause: converting <bound method Sampling.call of <VAEModel.Sampling object at 0x7f32766f1be0>>: AttributeError: module 'gast' has no attribute 'Num'\n",
      "Model: \"model\"\n",
      "__________________________________________________________________________________________________\n",
      "Layer (type)                    Output Shape         Param #     Connected to                     \n",
      "==================================================================================================\n",
      "encoder_input (InputLayer)      [(None, 480, 640, 1) 0                                            \n",
      "__________________________________________________________________________________________________\n",
      "conv2d (Conv2D)                 (None, 120, 160, 32) 1600        encoder_input[0][0]              \n",
      "__________________________________________________________________________________________________\n",
      "conv2d_1 (Conv2D)               (None, 60, 80, 32)   9248        conv2d[0][0]                     \n",
      "__________________________________________________________________________________________________\n",
      "conv2d_2 (Conv2D)               (None, 30, 40, 64)   18496       conv2d_1[0][0]                   \n",
      "__________________________________________________________________________________________________\n",
      "conv2d_3 (Conv2D)               (None, 6, 8, 64)     102464      conv2d_2[0][0]                   \n",
      "__________________________________________________________________________________________________\n",
      "flatten (Flatten)               (None, 3072)         0           conv2d_3[0][0]                   \n",
      "__________________________________________________________________________________________________\n",
      "z_mean (Dense)                  (None, 1000)         3073000     flatten[0][0]                    \n",
      "__________________________________________________________________________________________________\n",
      "z_log_var (Dense)               (None, 1000)         3073000     flatten[0][0]                    \n",
      "__________________________________________________________________________________________________\n",
      "sampling (Sampling)             (None, 1000)         0           z_mean[0][0]                     \n",
      "                                                                 z_log_var[0][0]                  \n",
      "__________________________________________________________________________________________________\n",
      "dense (Dense)                   (None, 3072)         3075072     sampling[0][0]                   \n",
      "__________________________________________________________________________________________________\n",
      "reshape (Reshape)               (None, 6, 8, 64)     0           dense[0][0]                      \n",
      "__________________________________________________________________________________________________\n",
      "conv2d_transpose (Conv2DTranspo (None, 30, 40, 64)   102464      reshape[0][0]                    \n",
      "__________________________________________________________________________________________________\n",
      "conv2d_transpose_1 (Conv2DTrans (None, 60, 80, 32)   18464       conv2d_transpose[0][0]           \n",
      "__________________________________________________________________________________________________\n",
      "conv2d_transpose_2 (Conv2DTrans (None, 120, 160, 32) 9248        conv2d_transpose_1[0][0]         \n",
      "__________________________________________________________________________________________________\n",
      "conv2d_transpose_3 (Conv2DTrans (None, 480, 640, 1)  1569        conv2d_transpose_2[0][0]         \n",
      "==================================================================================================\n",
      "Total params: 9,484,625\n",
      "Trainable params: 9,484,625\n",
      "Non-trainable params: 0\n",
      "__________________________________________________________________________________________________\n"
     ]
    }
   ],
   "source": [
    "# numerical_inputs = Input(shape=(NUM_INPUTS,))\n",
    "# image_inputs = Input(shape=(*img_shape, 1))\n",
    "\n",
    "latent_dim = 1000\n",
    "\n",
    "encoder_inputs = Input(shape=(*img_shape, 1), name=\"encoder_input\")\n",
    "a = Conv2D(32, 7, strides=4, padding=\"same\", activation=\"relu\")(encoder_inputs)\n",
    "a = Conv2D(32, 3, strides=2, padding=\"same\", activation=\"relu\")(a)\n",
    "a = Conv2D(64, 3, strides=2, padding=\"same\", activation=\"relu\")(a)\n",
    "a = Conv2D(64, 5, strides=5, padding=\"same\", activation=\"relu\")(a)\n",
    "a = Flatten()(a)\n",
    "z_mean = Dense(latent_dim, name=\"z_mean\")(a)\n",
    "z_log_var = Dense(latent_dim, name=\"z_log_var\")(a)\n",
    "z = Sampling()([z_mean, z_log_var])\n",
    "# encoder = Model(encoder_inputs, [z_mean, z_log_var, z], name=\"encoder\")\n",
    "encoder = Model(encoder_inputs, z_mean, name=\"encoder\")\n",
    "\n",
    "# latent_inputs = Input(shape=(latent_dim,))\n",
    "a = Dense(6 * 8 * 64, activation=\"relu\")(z)\n",
    "a = Reshape((6, 8, 64))(a)\n",
    "a = Conv2DTranspose(64, 5, strides=5, padding=\"same\", activation=\"relu\")(a)\n",
    "a = Conv2DTranspose(32, 3, strides=2, padding=\"same\", activation=\"relu\")(a)\n",
    "a = Conv2DTranspose(32, 3, strides=2, padding=\"same\", activation=\"relu\")(a)\n",
    "decoder_outputs = Conv2DTranspose(1, 7, strides=4, padding=\"same\", activation=\"relu\")(a)\n",
    "# decoder_outputs = UpSampling2D(size=(4,4))(a)\n",
    "# decoder = Model(latent_inputs, decoder_outputs, name=\"decoder\")\n",
    "# decoder.summary()\n",
    "\n",
    "# Process the image data first\n",
    "# x_image = Conv2D(32, (7, 7), strides=(4, 4), padding='same', activation='relu')(image_inputs)\n",
    "# x_image = Conv2D(64, (5, 5), strides=(4, 4), padding=\"same\", activation=\"relu\")(x_image)\n",
    "# x_image = Conv2D(128, (3, 3), strides=(2, 2), padding=\"same\", activation=\"relu\")(x_image)\n",
    "# x_image = Conv2D(128, (3, 3), strides=(2, 2), padding=\"same\", activation=\"relu\")(x_image)\n",
    "# x_image = Conv2D(256, (3, 3), strides=(2, 2), padding=\"same\", activation=\"relu\")(x_image)\n",
    "# x_image = Model(image_inputs, x_image)\n",
    "# x_image = Flatten()(x_image.output)\n",
    "\n",
    "# print(x_image.shape)\n",
    "# print(numerical_inputs.shape)\n",
    "\n",
    "# Combine the latent space representation with the numerical input\n",
    "# combined = concatenate([x_image, numerical_inputs])\n",
    "# print(combined.shape)\n",
    "# x_combined = Dense(300, kernel_regularizer=l2(0.01), activation='relu')(combined)\n",
    "# x_combined = Dense(60, kernel_regularizer=l2(0.01), activation='relu')(x_combined)\n",
    "# outputs = Dense(NUM_OUTPUTS, kernel_regularizer=l2(0.01), activation='linear')(x_combined)\n",
    "def vae_loss(input_img, reconstructed_img):\n",
    "#     reconstruction_loss = tf.reduce_mean(\n",
    "#         tf.keras.losses.binary_crossentropy(input_img, reconstructed_img)\n",
    "#     )\n",
    "    reconstruction_loss = tf.keras.losses.MSE(input_img, reconstructed_img)\n",
    "    reconstruction_loss *= 480 * 640\n",
    "    \n",
    "    kl_loss = 1 + z_log_var - tf.square(z_mean) - tf.exp(z_log_var)\n",
    "    kl_loss = tf.reduce_mean(kl_loss)\n",
    "    kl_loss *= -0.5\n",
    "    total_loss = reconstruction_loss + kl_loss\n",
    "    return total_loss\n",
    "\n",
    "vae = Model(encoder_inputs, decoder_outputs)\n",
    "vae.summary()"
   ]
  },
  {
   "cell_type": "code",
   "execution_count": 7,
   "metadata": {},
   "outputs": [
    {
     "name": "stdout",
     "output_type": "stream",
     "text": [
      "batch is 32\n",
      "batch is 32\n",
      "Epoch 1/10\n",
      "59/59 [==============================] - 14s 241ms/step - loss: 4351.3854\n",
      "239/239 [==============================] - 148s 621ms/step - loss: 6844.6939\n",
      "Epoch 2/10\n",
      "59/59 [==============================] - 14s 237ms/step - loss: 3361.5005\n",
      "239/239 [==============================] - 146s 609ms/step - loss: 3928.0043\n",
      "Epoch 3/10\n",
      "59/59 [==============================] - 13s 218ms/step - loss: 2860.7787\n",
      "239/239 [==============================] - 144s 602ms/step - loss: 3061.6280\n",
      "Epoch 4/10\n",
      "59/59 [==============================] - 13s 213ms/step - loss: 2565.4723\n",
      "239/239 [==============================] - 139s 582ms/step - loss: 2721.8364\n",
      "Epoch 5/10\n",
      "59/59 [==============================] - 12s 205ms/step - loss: 2682.0117\n",
      "239/239 [==============================] - 140s 585ms/step - loss: 2490.1833\n",
      "Epoch 6/10\n",
      "59/59 [==============================] - 12s 208ms/step - loss: 2286.2183\n",
      "239/239 [==============================] - 140s 584ms/step - loss: 2297.8516\n",
      "Epoch 7/10\n",
      "59/59 [==============================] - 13s 216ms/step - loss: 2202.1496\n",
      "239/239 [==============================] - 140s 588ms/step - loss: 2201.5307\n",
      "Epoch 8/10\n",
      "59/59 [==============================] - 13s 218ms/step - loss: 2082.9810\n",
      "239/239 [==============================] - 141s 589ms/step - loss: 2063.4999\n",
      "Epoch 9/10\n",
      "59/59 [==============================] - 13s 215ms/step - loss: 2055.5304\n",
      "239/239 [==============================] - 141s 589ms/step - loss: 1970.5766\n",
      "Epoch 10/10\n",
      "59/59 [==============================] - 12s 211ms/step - loss: 1967.9088\n",
      "239/239 [==============================] - 141s 588ms/step - loss: 1901.2393\n"
     ]
    },
    {
     "data": {
      "text/plain": [
       "<tensorflow.python.keras.callbacks.History at 0x7f327654f080>"
      ]
     },
     "execution_count": 7,
     "metadata": {},
     "output_type": "execute_result"
    }
   ],
   "source": [
    "# model = Model([image_inputs, numerical_inputs], outputs)\n",
    "\n",
    "# model.compile(loss='mse', optimizer='adam', metrics=['mae'])\n",
    "\n",
    "# log_dir = \"../logs/fit/\" + datetime.datetime.now().strftime(\"%Y%m%d-%H%M%S\")\n",
    "# tensorboard_callback = tf.keras.callbacks.TensorBoard(log_dir=log_dir, histogram_freq=1)\n",
    "\n",
    "# history = model.fit([X, inputNums], y, epochs=100, batch_size=32, validation_split=0.2, callbacks=[tensorboard_callback])\n",
    "# history = model.fit(xy, epochs=100, callbacks=[ValidationCallback(xy_validation), tensorboard_callback] )\n",
    "\n",
    "# (x_train, _), (x_test, _) = keras.datasets.mnist.load_data()\n",
    "# mnist_digits = np.concatenate([x_train, x_test], axis=0)\n",
    "# mnist_digits = np.expand_dims(mnist_digits, -1).astype(\"float32\") / 255\n",
    "\n",
    "# vae = VAE(encoder, decoder)\n",
    "# vae.compile(optimizer=keras.optimizers.Adam())\n",
    "VALIDATION_SPLIT = 0.2\n",
    "BATCH_SIZE = 32\n",
    "xy = ImageSequence(x, BATCH_SIZE, img_shape, hash_table, VALIDATION_SPLIT, False)\n",
    "xy_validation = ImageSequence(x, BATCH_SIZE, img_shape, hash_table, VALIDATION_SPLIT, True)\n",
    "\n",
    "NUM_EPOCHS = 30\n",
    "vae.compile(optimizer='adam', loss=vae_loss)\n",
    "vae.fit(xy, epochs=NUM_EPOCHS, callbacks=[ValidationCallback(xy_validation)])"
   ]
  },
  {
   "cell_type": "code",
   "execution_count": 8,
   "metadata": {},
   "outputs": [],
   "source": [
    "# Save the model\n",
    "vae.save('../models/vae.tf')\n",
    "# vae_dir = '../models/vae_model'\n",
    "# tf.saved_model.save(vae, vae_dir)\n",
    "\n",
    "encoder.save('../models/encoder.tf')\n",
    "# encoder_dir = '../models/encoder_model'\n",
    "# tf.saved_model.save(encoder, encoder_dir)\n",
    "\n",
    "# Open Tensorboard (actually, run this on the command line on your Terminal)\n",
    "# %tensorboard --logdir ../logs/fit"
   ]
  },
  {
   "cell_type": "code",
   "execution_count": 9,
   "metadata": {},
   "outputs": [
    {
     "name": "stdout",
     "output_type": "stream",
     "text": [
      "WARNING:tensorflow:From /home/fri/UAV/ego-planner/src/neural_net/venv/lib/python3.6/site-packages/tensorflow/python/ops/init_ops.py:97: calling GlorotUniform.__init__ (from tensorflow.python.ops.init_ops) with dtype is deprecated and will be removed in a future version.\n",
      "Instructions for updating:\n",
      "Call initializer instance with the dtype argument instead of passing it to the constructor\n",
      "WARNING:tensorflow:From /home/fri/UAV/ego-planner/src/neural_net/venv/lib/python3.6/site-packages/tensorflow/python/ops/init_ops.py:97: calling Zeros.__init__ (from tensorflow.python.ops.init_ops) with dtype is deprecated and will be removed in a future version.\n",
      "Instructions for updating:\n",
      "Call initializer instance with the dtype argument instead of passing it to the constructor\n",
      "WARNING:tensorflow:Entity <bound method Sampling.call of <VAEModel.Sampling object at 0x7f32442939b0>> could not be transformed and will be executed as-is. Please report this to the AutgoGraph team. When filing the bug, set the verbosity to 10 (on Linux, `export AUTOGRAPH_VERBOSITY=10`) and attach the full output. Cause: converting <bound method Sampling.call of <VAEModel.Sampling object at 0x7f32442939b0>>: AttributeError: module 'gast' has no attribute 'Num'\n",
      "WARNING: Entity <bound method Sampling.call of <VAEModel.Sampling object at 0x7f32442939b0>> could not be transformed and will be executed as-is. Please report this to the AutgoGraph team. When filing the bug, set the verbosity to 10 (on Linux, `export AUTOGRAPH_VERBOSITY=10`) and attach the full output. Cause: converting <bound method Sampling.call of <VAEModel.Sampling object at 0x7f32442939b0>>: AttributeError: module 'gast' has no attribute 'Num'\n",
      "WARNING:tensorflow:No training configuration found in save file: the model was *not* compiled. Compile it manually.\n"
     ]
    }
   ],
   "source": [
    "# Load the model\n",
    "loaded_model_vae = tf.keras.models.load_model('../models/vae.tf', custom_objects={\"Sampling\": Sampling, \"vae_loss\": vae_loss})\n",
    "loaded_model_encoder = tf.keras.models.load_model('../models/encoder.tf', custom_objects={\"Sampling\": Sampling, \"vae_loss\": vae_loss})"
   ]
  },
  {
   "cell_type": "code",
   "execution_count": 10,
   "metadata": {},
   "outputs": [
    {
     "data": {
      "text/plain": [
       "<matplotlib.image.AxesImage at 0x7f31e35b5358>"
      ]
     },
     "execution_count": 10,
     "metadata": {},
     "output_type": "execute_result"
    },
    {
     "data": {
      "image/png": "[encoded data removed]",
      "text/plain": [
       "<Figure size 432x288 with 1 Axes>"
      ]
     },
     "metadata": {
      "needs_background": "light"
     },
     "output_type": "display_data"
    }
   ],
   "source": [
    "plt.imshow(xy[5][0][0])"
   ]
  },
  {
   "cell_type": "code",
   "execution_count": 11,
   "metadata": {},
   "outputs": [
    {
     "data": {
      "text/plain": [
       "<matplotlib.image.AxesImage at 0x7f31e34ce3c8>"
      ]
     },
     "execution_count": 11,
     "metadata": {},
     "output_type": "execute_result"
    },
    {
     "data": {
      "image/png": "[encoded data removed]",
      "text/plain": [
       "<Figure size 432x288 with 1 Axes>"
      ]
     },
     "metadata": {
      "needs_background": "light"
     },
     "output_type": "display_data"
    }
   ],
   "source": [
    "prediction = loaded_model_vae.predict(xy.__getitem__(5)[0])[0]\n",
    "plt.imshow(prediction)"
   ]
  },
  {
   "cell_type": "code",
   "execution_count": 12,
   "metadata": {},
   "outputs": [],
   "source": [
    "# # 1. Get the latent space representation of the image from the encoder\n",
    "# NUM_INPUTS = 13\n",
    "# NUM_OUTPUTS = 9\n",
    "\n",
    "# VALIDATION_SPLIT = 0.2\n",
    "# xy = UAVSequence(x, y, 32, img_shape, hash_table, VALIDATION_SPLIT, False)\n",
    "# xy_validation = UAVSequence(x, y, 32, img_shape, hash_table, VALIDATION_SPLIT, True)\n",
    "\n",
    "\n",
    "# # latent_vector = encoder.predict()\n",
    "# # z_mean = encoder.get_layer(\"z_mean\")\n",
    "# encoder_input = loaded_model_encoder.get_layer(\"encoder_input\")\n",
    "# numerical_inputs = Input(shape=(NUM_INPUTS,))\n",
    "# z_mean = loaded_model_encoder.get_layer(\"z_mean\")\n",
    "# z_mean = Input(shape=z_mean.shape)(z_mean)\n",
    "# combined = concatenate([z_mean, numerical_inputs])\n",
    "# print(combined.shape)\n",
    "\n",
    "# z_mean = loaded_model_encoder(img, training=False)\n",
    "\n",
    "# x_combined = Dense(300, kernel_regularizer=l2(0.01), activation='relu')(combined)\n",
    "# x_combined = Dense(60, kernel_regularizer=l2(0.01), activation='relu')(x_combined)\n",
    "# outputs = Dense(NUM_OUTPUTS, kernel_regularizer=l2(0.01), activation='linear')(x_combined)\n",
    "\n",
    "# model = Model([encoder_input, numerical_inputs], outputs)\n",
    "# model.summary()"
   ]
  },
  {
   "cell_type": "code",
   "execution_count": 13,
   "metadata": {},
   "outputs": [
    {
     "name": "stdout",
     "output_type": "stream",
     "text": [
      "Model: \"model_1\"\n",
      "__________________________________________________________________________________________________\n",
      "Layer (type)                    Output Shape         Param #     Connected to                     \n",
      "==================================================================================================\n",
      "input_1 (InputLayer)            [(None, 480, 640, 1) 0                                            \n",
      "__________________________________________________________________________________________________\n",
      "encoder (Model)                 (None, 1000)         3204808     input_1[0][0]                    \n",
      "__________________________________________________________________________________________________\n",
      "flatten_1 (Flatten)             (None, 1000)         0           encoder[1][0]                    \n",
      "__________________________________________________________________________________________________\n",
      "input_2 (InputLayer)            [(None, 13)]         0                                            \n",
      "__________________________________________________________________________________________________\n",
      "concatenate (Concatenate)       (None, 1013)         0           flatten_1[0][0]                  \n",
      "                                                                 input_2[0][0]                    \n",
      "__________________________________________________________________________________________________\n",
      "dense_1 (Dense)                 (None, 300)          304200      concatenate[0][0]                \n",
      "__________________________________________________________________________________________________\n",
      "dense_2 (Dense)                 (None, 60)           18060       dense_1[0][0]                    \n",
      "__________________________________________________________________________________________________\n",
      "dense_3 (Dense)                 (None, 9)            549         dense_2[0][0]                    \n",
      "==================================================================================================\n",
      "Total params: 3,527,617\n",
      "Trainable params: 3,527,617\n",
      "Non-trainable params: 0\n",
      "__________________________________________________________________________________________________\n"
     ]
    }
   ],
   "source": [
    "# 1. Get the latent space representation of the image from the encoder\n",
    "NUM_INPUTS = 13\n",
    "NUM_OUTPUTS = 9\n",
    "img_shape = (480, 640)\n",
    "\n",
    "image_inputs = Input(shape=(*img_shape, 1))\n",
    "numerical_inputs = Input(shape=(NUM_INPUTS,))\n",
    "\n",
    "z_mean = loaded_model_encoder(image_inputs, training=False)\n",
    "z_mean = Flatten()(z_mean)\n",
    "combined = concatenate([z_mean, numerical_inputs])\n",
    "x_combined = Dense(300, kernel_regularizer=l2(0.01), activation='relu')(combined)\n",
    "x_combined = Dense(60, kernel_regularizer=l2(0.01), activation='relu')(x_combined)\n",
    "outputs = Dense(NUM_OUTPUTS, kernel_regularizer=l2(0.01), activation='linear')(x_combined)\n",
    "\n",
    "model = Model([image_inputs, numerical_inputs], outputs)\n",
    "model.summary()"
   ]
  },
  {
   "cell_type": "code",
   "execution_count": 14,
   "metadata": {},
   "outputs": [
    {
     "name": "stdout",
     "output_type": "stream",
     "text": [
      "batch is 32\n",
      "batch is 32\n",
      "Epoch 1/10\n",
      "59/59 [==============================] - 6s 98ms/step - loss: 9.7753\n",
      "239/239 [==============================] - 51s 214ms/step - loss: 16.3785\n",
      "Epoch 2/10\n",
      "59/59 [==============================] - 6s 98ms/step - loss: 5.9327\n",
      "239/239 [==============================] - 50s 211ms/step - loss: 6.5022\n",
      "Epoch 3/10\n",
      "59/59 [==============================] - 6s 96ms/step - loss: 4.0177\n",
      "239/239 [==============================] - 50s 211ms/step - loss: 3.4285\n",
      "Epoch 4/10\n",
      "59/59 [==============================] - 6s 98ms/step - loss: 3.6790\n",
      "239/239 [==============================] - 51s 213ms/step - loss: 2.2880\n",
      "Epoch 5/10\n",
      "59/59 [==============================] - 6s 96ms/step - loss: 3.1679\n",
      "239/239 [==============================] - 50s 210ms/step - loss: 1.8477\n",
      "Epoch 6/10\n",
      "59/59 [==============================] - 6s 98ms/step - loss: 3.0435\n",
      "239/239 [==============================] - 51s 213ms/step - loss: 1.6255\n",
      "Epoch 7/10\n",
      "59/59 [==============================] - 6s 98ms/step - loss: 2.9139\n",
      "239/239 [==============================] - 50s 210ms/step - loss: 1.5173\n",
      "Epoch 8/10\n",
      "59/59 [==============================] - 6s 96ms/step - loss: 2.8660\n",
      "239/239 [==============================] - 51s 211ms/step - loss: 1.3861\n",
      "Epoch 9/10\n",
      "59/59 [==============================] - 6s 94ms/step - loss: 2.8019\n",
      "239/239 [==============================] - 50s 208ms/step - loss: 1.3258\n",
      "Epoch 10/10\n",
      "59/59 [==============================] - 6s 96ms/step - loss: 2.8052\n",
      "239/239 [==============================] - 50s 210ms/step - loss: 1.1620\n"
     ]
    },
    {
     "data": {
      "text/plain": [
       "<tensorflow.python.keras.callbacks.History at 0x7f31e32bf6d8>"
      ]
     },
     "execution_count": 14,
     "metadata": {},
     "output_type": "execute_result"
    }
   ],
   "source": [
    "VALIDATION_SPLIT = 0.2\n",
    "BATCH_SIZE = 32\n",
    "xy = UAVSequence(x, y, BATCH_SIZE, img_shape, hash_table, VALIDATION_SPLIT, False)\n",
    "xy_validation = UAVSequence(x, y, BATCH_SIZE, img_shape, hash_table, VALIDATION_SPLIT, True)\n",
    "\n",
    "NUM_EPOCHS = 100\n",
    "model.compile(optimizer='adam', loss=tf.keras.losses.MSE)\n",
    "model.fit(xy, epochs=NUM_EPOCHS, callbacks=[ValidationCallback(xy_validation)])"
   ]
  },
  {
   "cell_type": "code",
   "execution_count": 20,
   "metadata": {},
   "outputs": [],
   "source": [
    "# Save the model\n",
    "model.save('../models/complete.tf')"
   ]
  },
  {
   "cell_type": "code",
   "execution_count": 21,
   "metadata": {},
   "outputs": [],
   "source": [
    "loaded_model_complete = tf.keras.models.load_model('../models/complete.tf', custom_objects={\"Sampling\": Sampling, \"vae_loss\": vae_loss})"
   ]
  },
  {
   "cell_type": "code",
   "execution_count": 22,
   "metadata": {},
   "outputs": [
    {
     "name": "stdout",
     "output_type": "stream",
     "text": [
      "[-12.938299  -9.866716   1.089456   0.421963   1.595969  -0.222052\n",
      "  -0.640543   0.181245   0.140588]\n",
      "[-11.256937   -11.311914     0.9894643    0.7223017    1.3781552\n",
      "  -0.04005485  -0.83354783   0.03639185   0.07598005]\n"
     ]
    }
   ],
   "source": [
    "print(xy[5][1][1])\n",
    "prediction = model.predict(xy.__getitem__(5)[0])[1]\n",
    "print(prediction)"
   ]
  }
 ],
 "metadata": {
  "kernelspec": {
   "display_name": "Python 3",
   "language": "python",
   "name": "python3"
  },
  "language_info": {
   "codemirror_mode": {
    "name": "ipython",
    "version": 3
   },
   "file_extension": ".py",
   "mimetype": "text/x-python",
   "name": "python",
   "nbconvert_exporter": "python",
   "pygments_lexer": "ipython3",
   "version": "3.6.9"
  }
 },
 "nbformat": 4,
 "nbformat_minor": 4
}
